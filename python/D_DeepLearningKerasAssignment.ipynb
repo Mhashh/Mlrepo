{
 "cells": [
  {
   "cell_type": "markdown",
   "id": "767fde83-0261-4db2-9b57-8744161b4f6d",
   "metadata": {},
   "source": [
    "# Regression Model Assignment D"
   ]
  },
  {
   "cell_type": "markdown",
   "id": "1c3470f7-9cc7-4e58-b6dd-67cbb2b537be",
   "metadata": {},
   "source": [
    "### on  Concrete dataset"
   ]
  },
  {
   "cell_type": "code",
   "execution_count": 1,
   "id": "bfd70708-e87d-4c92-a189-2219a832adcd",
   "metadata": {},
   "outputs": [],
   "source": [
    "#!pip install keras"
   ]
  },
  {
   "cell_type": "code",
   "execution_count": 2,
   "id": "ad2a8434-7c65-4dca-aa13-335f1a9bdf3c",
   "metadata": {},
   "outputs": [],
   "source": [
    "#imports\n",
    "import pandas as pd\n",
    "import numpy as np\n",
    "import keras\n",
    "from keras.models import Sequential\n",
    "from keras.layers import Dense\n",
    "from sklearn.model_selection import train_test_split\n",
    "from sklearn.metrics import mean_squared_error"
   ]
  },
  {
   "cell_type": "markdown",
   "id": "6123182b-0d40-4e9c-80af-592877491b87",
   "metadata": {},
   "source": [
    "### fetching dataset via pandas and a url"
   ]
  },
  {
   "cell_type": "code",
   "execution_count": 3,
   "id": "92d8f4da-034e-49f6-92ae-4aeecc7c66f9",
   "metadata": {},
   "outputs": [],
   "source": [
    "url=\"https://cocl.us/concrete_data\""
   ]
  },
  {
   "cell_type": "code",
   "execution_count": 4,
   "id": "e3866467-e673-45d4-bdaa-f4e23bf3ce8b",
   "metadata": {},
   "outputs": [],
   "source": [
    "data = pd.read_csv(url)"
   ]
  },
  {
   "cell_type": "code",
   "execution_count": 5,
   "id": "ac04d138-f78b-4fee-a5fd-75cfc4a1f8de",
   "metadata": {},
   "outputs": [
    {
     "data": {
      "text/plain": [
       "Cement                0\n",
       "Blast Furnace Slag    0\n",
       "Fly Ash               0\n",
       "Water                 0\n",
       "Superplasticizer      0\n",
       "Coarse Aggregate      0\n",
       "Fine Aggregate        0\n",
       "Age                   0\n",
       "Strength              0\n",
       "dtype: int64"
      ]
     },
     "execution_count": 5,
     "metadata": {},
     "output_type": "execute_result"
    }
   ],
   "source": [
    "data.isnull().sum() #checking for null"
   ]
  },
  {
   "cell_type": "code",
   "execution_count": 6,
   "id": "a296f076-2ef1-482c-91c5-e0858099413b",
   "metadata": {},
   "outputs": [
    {
     "data": {
      "text/plain": [
       "Index(['Cement', 'Blast Furnace Slag', 'Fly Ash', 'Water', 'Superplasticizer',\n",
       "       'Coarse Aggregate', 'Fine Aggregate', 'Age', 'Strength'],\n",
       "      dtype='object')"
      ]
     },
     "execution_count": 6,
     "metadata": {},
     "output_type": "execute_result"
    }
   ],
   "source": [
    "data.columns"
   ]
  },
  {
   "cell_type": "markdown",
   "id": "829e759f-bc87-434b-8ff0-b04accffe426",
   "metadata": {},
   "source": [
    "### Creating training data"
   ]
  },
  {
   "cell_type": "code",
   "execution_count": 7,
   "id": "42dbe5a7-e94a-4217-830e-b34fb15673e7",
   "metadata": {},
   "outputs": [],
   "source": [
    "independent = data[data.columns[data.columns != 'Strength']]\n",
    "dependent = data[\"Strength\"]\n"
   ]
  },
  {
   "cell_type": "code",
   "execution_count": 8,
   "id": "23e1fd8c-be2d-4c04-8280-795ce7a580d3",
   "metadata": {},
   "outputs": [
    {
     "data": {
      "text/html": [
       "<div>\n",
       "<style scoped>\n",
       "    .dataframe tbody tr th:only-of-type {\n",
       "        vertical-align: middle;\n",
       "    }\n",
       "\n",
       "    .dataframe tbody tr th {\n",
       "        vertical-align: top;\n",
       "    }\n",
       "\n",
       "    .dataframe thead th {\n",
       "        text-align: right;\n",
       "    }\n",
       "</style>\n",
       "<table border=\"1\" class=\"dataframe\">\n",
       "  <thead>\n",
       "    <tr style=\"text-align: right;\">\n",
       "      <th></th>\n",
       "      <th>Cement</th>\n",
       "      <th>Blast Furnace Slag</th>\n",
       "      <th>Fly Ash</th>\n",
       "      <th>Water</th>\n",
       "      <th>Superplasticizer</th>\n",
       "      <th>Coarse Aggregate</th>\n",
       "      <th>Fine Aggregate</th>\n",
       "      <th>Age</th>\n",
       "    </tr>\n",
       "  </thead>\n",
       "  <tbody>\n",
       "    <tr>\n",
       "      <th>0</th>\n",
       "      <td>540.0</td>\n",
       "      <td>0.0</td>\n",
       "      <td>0.0</td>\n",
       "      <td>162.0</td>\n",
       "      <td>2.5</td>\n",
       "      <td>1040.0</td>\n",
       "      <td>676.0</td>\n",
       "      <td>28</td>\n",
       "    </tr>\n",
       "    <tr>\n",
       "      <th>1</th>\n",
       "      <td>540.0</td>\n",
       "      <td>0.0</td>\n",
       "      <td>0.0</td>\n",
       "      <td>162.0</td>\n",
       "      <td>2.5</td>\n",
       "      <td>1055.0</td>\n",
       "      <td>676.0</td>\n",
       "      <td>28</td>\n",
       "    </tr>\n",
       "    <tr>\n",
       "      <th>2</th>\n",
       "      <td>332.5</td>\n",
       "      <td>142.5</td>\n",
       "      <td>0.0</td>\n",
       "      <td>228.0</td>\n",
       "      <td>0.0</td>\n",
       "      <td>932.0</td>\n",
       "      <td>594.0</td>\n",
       "      <td>270</td>\n",
       "    </tr>\n",
       "    <tr>\n",
       "      <th>3</th>\n",
       "      <td>332.5</td>\n",
       "      <td>142.5</td>\n",
       "      <td>0.0</td>\n",
       "      <td>228.0</td>\n",
       "      <td>0.0</td>\n",
       "      <td>932.0</td>\n",
       "      <td>594.0</td>\n",
       "      <td>365</td>\n",
       "    </tr>\n",
       "    <tr>\n",
       "      <th>4</th>\n",
       "      <td>198.6</td>\n",
       "      <td>132.4</td>\n",
       "      <td>0.0</td>\n",
       "      <td>192.0</td>\n",
       "      <td>0.0</td>\n",
       "      <td>978.4</td>\n",
       "      <td>825.5</td>\n",
       "      <td>360</td>\n",
       "    </tr>\n",
       "  </tbody>\n",
       "</table>\n",
       "</div>"
      ],
      "text/plain": [
       "   Cement  Blast Furnace Slag  Fly Ash  Water  Superplasticizer  \\\n",
       "0   540.0                 0.0      0.0  162.0               2.5   \n",
       "1   540.0                 0.0      0.0  162.0               2.5   \n",
       "2   332.5               142.5      0.0  228.0               0.0   \n",
       "3   332.5               142.5      0.0  228.0               0.0   \n",
       "4   198.6               132.4      0.0  192.0               0.0   \n",
       "\n",
       "   Coarse Aggregate  Fine Aggregate  Age  \n",
       "0            1040.0           676.0   28  \n",
       "1            1055.0           676.0   28  \n",
       "2             932.0           594.0  270  \n",
       "3             932.0           594.0  365  \n",
       "4             978.4           825.5  360  "
      ]
     },
     "execution_count": 8,
     "metadata": {},
     "output_type": "execute_result"
    }
   ],
   "source": [
    "independent.head()"
   ]
  },
  {
   "cell_type": "code",
   "execution_count": 9,
   "id": "cc698d11-1a0e-4f46-9c4e-dc208f838785",
   "metadata": {},
   "outputs": [
    {
     "data": {
      "text/plain": [
       "0    79.99\n",
       "1    61.89\n",
       "2    40.27\n",
       "3    41.05\n",
       "4    44.30\n",
       "Name: Strength, dtype: float64"
      ]
     },
     "execution_count": 9,
     "metadata": {},
     "output_type": "execute_result"
    }
   ],
   "source": [
    "dependent.head()"
   ]
  },
  {
   "cell_type": "markdown",
   "id": "ff4b9563-5249-4414-ab1c-3d84b73464a6",
   "metadata": {},
   "source": [
    "### Normalizing dataset (B part needed)"
   ]
  },
  {
   "cell_type": "code",
   "execution_count": 10,
   "id": "f5f2a924-9a42-453b-8726-fc2b26464557",
   "metadata": {},
   "outputs": [
    {
     "data": {
      "text/html": [
       "<div>\n",
       "<style scoped>\n",
       "    .dataframe tbody tr th:only-of-type {\n",
       "        vertical-align: middle;\n",
       "    }\n",
       "\n",
       "    .dataframe tbody tr th {\n",
       "        vertical-align: top;\n",
       "    }\n",
       "\n",
       "    .dataframe thead th {\n",
       "        text-align: right;\n",
       "    }\n",
       "</style>\n",
       "<table border=\"1\" class=\"dataframe\">\n",
       "  <thead>\n",
       "    <tr style=\"text-align: right;\">\n",
       "      <th></th>\n",
       "      <th>Cement</th>\n",
       "      <th>Blast Furnace Slag</th>\n",
       "      <th>Fly Ash</th>\n",
       "      <th>Water</th>\n",
       "      <th>Superplasticizer</th>\n",
       "      <th>Coarse Aggregate</th>\n",
       "      <th>Fine Aggregate</th>\n",
       "      <th>Age</th>\n",
       "    </tr>\n",
       "  </thead>\n",
       "  <tbody>\n",
       "    <tr>\n",
       "      <th>0</th>\n",
       "      <td>2.476712</td>\n",
       "      <td>-0.856472</td>\n",
       "      <td>-0.846733</td>\n",
       "      <td>-0.916319</td>\n",
       "      <td>-0.620147</td>\n",
       "      <td>0.862735</td>\n",
       "      <td>-1.217079</td>\n",
       "      <td>-0.279597</td>\n",
       "    </tr>\n",
       "    <tr>\n",
       "      <th>1</th>\n",
       "      <td>2.476712</td>\n",
       "      <td>-0.856472</td>\n",
       "      <td>-0.846733</td>\n",
       "      <td>-0.916319</td>\n",
       "      <td>-0.620147</td>\n",
       "      <td>1.055651</td>\n",
       "      <td>-1.217079</td>\n",
       "      <td>-0.279597</td>\n",
       "    </tr>\n",
       "    <tr>\n",
       "      <th>2</th>\n",
       "      <td>0.491187</td>\n",
       "      <td>0.795140</td>\n",
       "      <td>-0.846733</td>\n",
       "      <td>2.174405</td>\n",
       "      <td>-1.038638</td>\n",
       "      <td>-0.526262</td>\n",
       "      <td>-2.239829</td>\n",
       "      <td>3.551340</td>\n",
       "    </tr>\n",
       "    <tr>\n",
       "      <th>3</th>\n",
       "      <td>0.491187</td>\n",
       "      <td>0.795140</td>\n",
       "      <td>-0.846733</td>\n",
       "      <td>2.174405</td>\n",
       "      <td>-1.038638</td>\n",
       "      <td>-0.526262</td>\n",
       "      <td>-2.239829</td>\n",
       "      <td>5.055221</td>\n",
       "    </tr>\n",
       "    <tr>\n",
       "      <th>4</th>\n",
       "      <td>-0.790075</td>\n",
       "      <td>0.678079</td>\n",
       "      <td>-0.846733</td>\n",
       "      <td>0.488555</td>\n",
       "      <td>-1.038638</td>\n",
       "      <td>0.070492</td>\n",
       "      <td>0.647569</td>\n",
       "      <td>4.976069</td>\n",
       "    </tr>\n",
       "  </tbody>\n",
       "</table>\n",
       "</div>"
      ],
      "text/plain": [
       "     Cement  Blast Furnace Slag   Fly Ash     Water  Superplasticizer  \\\n",
       "0  2.476712           -0.856472 -0.846733 -0.916319         -0.620147   \n",
       "1  2.476712           -0.856472 -0.846733 -0.916319         -0.620147   \n",
       "2  0.491187            0.795140 -0.846733  2.174405         -1.038638   \n",
       "3  0.491187            0.795140 -0.846733  2.174405         -1.038638   \n",
       "4 -0.790075            0.678079 -0.846733  0.488555         -1.038638   \n",
       "\n",
       "   Coarse Aggregate  Fine Aggregate       Age  \n",
       "0          0.862735       -1.217079 -0.279597  \n",
       "1          1.055651       -1.217079 -0.279597  \n",
       "2         -0.526262       -2.239829  3.551340  \n",
       "3         -0.526262       -2.239829  5.055221  \n",
       "4          0.070492        0.647569  4.976069  "
      ]
     },
     "execution_count": 10,
     "metadata": {},
     "output_type": "execute_result"
    }
   ],
   "source": [
    "independent = (independent - independent.mean())/independent.std()\n",
    "independent.head()"
   ]
  },
  {
   "cell_type": "markdown",
   "id": "f5f36f42-171e-4b53-baeb-7be6fa6868a9",
   "metadata": {},
   "source": [
    "### logic for Splitting the dataset"
   ]
  },
  {
   "cell_type": "code",
   "execution_count": 11,
   "id": "03694b5a-62ba-4589-be7e-0eb12b9f1565",
   "metadata": {},
   "outputs": [],
   "source": [
    "x_train,x_test,y_train,y_test = train_test_split(independent,dependent,test_size=0.3,random_state=10)"
   ]
  },
  {
   "cell_type": "code",
   "execution_count": 12,
   "id": "6550d57b-0b61-4126-b480-96bae086a79b",
   "metadata": {},
   "outputs": [
    {
     "data": {
      "text/plain": [
       "426    29.55\n",
       "835    15.42\n",
       "242    31.35\n",
       "823    29.59\n",
       "157    77.30\n",
       "Name: Strength, dtype: float64"
      ]
     },
     "execution_count": 12,
     "metadata": {},
     "output_type": "execute_result"
    }
   ],
   "source": [
    "y_train.head()"
   ]
  },
  {
   "cell_type": "code",
   "execution_count": 13,
   "id": "87e665ee-1521-43de-b15d-2f8ae5033adc",
   "metadata": {},
   "outputs": [
    {
     "data": {
      "text/html": [
       "<div>\n",
       "<style scoped>\n",
       "    .dataframe tbody tr th:only-of-type {\n",
       "        vertical-align: middle;\n",
       "    }\n",
       "\n",
       "    .dataframe tbody tr th {\n",
       "        vertical-align: top;\n",
       "    }\n",
       "\n",
       "    .dataframe thead th {\n",
       "        text-align: right;\n",
       "    }\n",
       "</style>\n",
       "<table border=\"1\" class=\"dataframe\">\n",
       "  <thead>\n",
       "    <tr style=\"text-align: right;\">\n",
       "      <th></th>\n",
       "      <th>Cement</th>\n",
       "      <th>Blast Furnace Slag</th>\n",
       "      <th>Fly Ash</th>\n",
       "      <th>Water</th>\n",
       "      <th>Superplasticizer</th>\n",
       "      <th>Coarse Aggregate</th>\n",
       "      <th>Fine Aggregate</th>\n",
       "      <th>Age</th>\n",
       "    </tr>\n",
       "  </thead>\n",
       "  <tbody>\n",
       "    <tr>\n",
       "      <th>426</th>\n",
       "      <td>-1.027381</td>\n",
       "      <td>0.226058</td>\n",
       "      <td>1.651822</td>\n",
       "      <td>-0.433979</td>\n",
       "      <td>0.585108</td>\n",
       "      <td>0.440892</td>\n",
       "      <td>-0.336516</td>\n",
       "      <td>-0.501222</td>\n",
       "    </tr>\n",
       "    <tr>\n",
       "      <th>835</th>\n",
       "      <td>-1.312531</td>\n",
       "      <td>-0.856472</td>\n",
       "      <td>1.887770</td>\n",
       "      <td>-1.103636</td>\n",
       "      <td>1.974498</td>\n",
       "      <td>-0.384790</td>\n",
       "      <td>0.878312</td>\n",
       "      <td>-0.279597</td>\n",
       "    </tr>\n",
       "    <tr>\n",
       "      <th>242</th>\n",
       "      <td>-0.492485</td>\n",
       "      <td>-0.856472</td>\n",
       "      <td>1.000229</td>\n",
       "      <td>0.638409</td>\n",
       "      <td>-0.017520</td>\n",
       "      <td>0.709688</td>\n",
       "      <td>-0.199318</td>\n",
       "      <td>0.163652</td>\n",
       "    </tr>\n",
       "    <tr>\n",
       "      <th>823</th>\n",
       "      <td>0.390714</td>\n",
       "      <td>-0.856472</td>\n",
       "      <td>-0.846733</td>\n",
       "      <td>1.003676</td>\n",
       "      <td>-1.038638</td>\n",
       "      <td>0.013904</td>\n",
       "      <td>0.329519</td>\n",
       "      <td>2.126612</td>\n",
       "    </tr>\n",
       "    <tr>\n",
       "      <th>157</th>\n",
       "      <td>0.779207</td>\n",
       "      <td>1.334087</td>\n",
       "      <td>-0.846733</td>\n",
       "      <td>-0.780515</td>\n",
       "      <td>0.903161</td>\n",
       "      <td>-0.362926</td>\n",
       "      <td>-0.221768</td>\n",
       "      <td>0.163652</td>\n",
       "    </tr>\n",
       "  </tbody>\n",
       "</table>\n",
       "</div>"
      ],
      "text/plain": [
       "       Cement  Blast Furnace Slag   Fly Ash     Water  Superplasticizer  \\\n",
       "426 -1.027381            0.226058  1.651822 -0.433979          0.585108   \n",
       "835 -1.312531           -0.856472  1.887770 -1.103636          1.974498   \n",
       "242 -0.492485           -0.856472  1.000229  0.638409         -0.017520   \n",
       "823  0.390714           -0.856472 -0.846733  1.003676         -1.038638   \n",
       "157  0.779207            1.334087 -0.846733 -0.780515          0.903161   \n",
       "\n",
       "     Coarse Aggregate  Fine Aggregate       Age  \n",
       "426          0.440892       -0.336516 -0.501222  \n",
       "835         -0.384790        0.878312 -0.279597  \n",
       "242          0.709688       -0.199318  0.163652  \n",
       "823          0.013904        0.329519  2.126612  \n",
       "157         -0.362926       -0.221768  0.163652  "
      ]
     },
     "execution_count": 13,
     "metadata": {},
     "output_type": "execute_result"
    }
   ],
   "source": [
    "x_train.head()"
   ]
  },
  {
   "cell_type": "markdown",
   "id": "050a92f3-1ca7-44a1-a352-7ae474fb6800",
   "metadata": {},
   "source": [
    "### Creating model and using adam optimizer, loss is mean squared error "
   ]
  },
  {
   "cell_type": "code",
   "execution_count": 14,
   "id": "0d68c86e-bba7-437a-b71b-c466a047a2d5",
   "metadata": {},
   "outputs": [],
   "source": [
    "columns_count = independent.shape[1]#input shape"
   ]
  },
  {
   "cell_type": "code",
   "execution_count": 15,
   "id": "d47391d1-cbaa-4f05-beba-fc55f925707f",
   "metadata": {},
   "outputs": [],
   "source": [
    "#model with 1 hidden layer of 10 output,loss is mean absolute error\n",
    "def regression_model():\n",
    "    model = Sequential()\n",
    "    \n",
    "    model.add(Dense(6,activation=\"relu\",input_shape=(columns_count,)))\n",
    "    model.add(Dense(10,activation=\"relu\"))#hidden layer of 10 nodes\n",
    "    model.add(Dense(10,activation=\"relu\"))#hidden layer of 10 nodes\n",
    "    model.add(Dense(10,activation=\"relu\"))#hidden layer of 10 nodes\n",
    "    model.add(Dense(1))\n",
    "    \n",
    "    model.compile(optimizer='adam',loss=\"mean_squared_error\")\n",
    "    return model\n"
   ]
  },
  {
   "cell_type": "markdown",
   "id": "0bc4c275-7074-4676-9599-87977e8ec17b",
   "metadata": {},
   "source": [
    "### (D) Training/ fitting the data train:test 0.7:0.3, epochs = 50  , 50 times and measuring MSE"
   ]
  },
  {
   "cell_type": "code",
   "execution_count": 16,
   "id": "1b273bb1-4f14-4d05-931f-b3c9f4367b4b",
   "metadata": {
    "scrolled": true
   },
   "outputs": [
    {
     "name": "stdout",
     "output_type": "stream",
     "text": [
      "10/10 [==============================] - 0s 1ms/step\n",
      "Iteration 1 , Current MSE : 121.95455731722798\n",
      "10/10 [==============================] - 0s 1ms/step\n",
      "Iteration 2 , Current MSE : 121.33360836148985\n",
      "10/10 [==============================] - 0s 999us/step\n",
      "Iteration 3 , Current MSE : 131.5394129757133\n",
      "10/10 [==============================] - 0s 893us/step\n",
      "Iteration 4 , Current MSE : 122.72047798053961\n",
      "10/10 [==============================] - 0s 1ms/step\n",
      "Iteration 5 , Current MSE : 117.93869303023617\n",
      "10/10 [==============================] - 0s 1ms/step\n",
      "Iteration 6 , Current MSE : 117.48469511976774\n",
      "10/10 [==============================] - 0s 1ms/step\n",
      "Iteration 7 , Current MSE : 111.25684428568412\n",
      "10/10 [==============================] - 0s 1ms/step\n",
      "Iteration 8 , Current MSE : 123.80203564130333\n",
      "10/10 [==============================] - 0s 1000us/step\n",
      "Iteration 9 , Current MSE : 88.49044549487864\n",
      "10/10 [==============================] - 0s 1ms/step\n",
      "Iteration 10 , Current MSE : 121.52276608110226\n",
      "10/10 [==============================] - 0s 892us/step\n",
      "Iteration 11 , Current MSE : 125.27032071793107\n",
      "10/10 [==============================] - 0s 1ms/step\n",
      "Iteration 12 , Current MSE : 80.36817630048671\n",
      "10/10 [==============================] - 0s 2ms/step\n",
      "Iteration 13 , Current MSE : 121.29292118092292\n",
      "10/10 [==============================] - 0s 1000us/step\n",
      "Iteration 14 , Current MSE : 116.08099487292219\n",
      "10/10 [==============================] - 0s 1ms/step\n",
      "Iteration 15 , Current MSE : 120.35295387960483\n",
      "10/10 [==============================] - 0s 3ms/step\n",
      "Iteration 16 , Current MSE : 113.26003307757779\n",
      "10/10 [==============================] - 0s 1ms/step\n",
      "Iteration 17 , Current MSE : 113.6621283180958\n",
      "10/10 [==============================] - 0s 1ms/step\n",
      "Iteration 18 , Current MSE : 91.41314182524096\n",
      "10/10 [==============================] - 0s 1ms/step\n",
      "Iteration 19 , Current MSE : 123.04459842683815\n",
      "10/10 [==============================] - 0s 1ms/step\n",
      "Iteration 20 , Current MSE : 116.29098096953349\n",
      "10/10 [==============================] - 0s 1ms/step\n",
      "Iteration 21 , Current MSE : 108.44787022714051\n",
      "10/10 [==============================] - 0s 1ms/step\n",
      "Iteration 22 , Current MSE : 124.2919736924166\n",
      "10/10 [==============================] - 0s 1ms/step\n",
      "Iteration 23 , Current MSE : 123.72762053448533\n",
      "10/10 [==============================] - 0s 1ms/step\n",
      "Iteration 24 , Current MSE : 120.24623521344337\n",
      "10/10 [==============================] - 0s 1ms/step\n",
      "Iteration 25 , Current MSE : 127.42488491965372\n",
      "10/10 [==============================] - 0s 1ms/step\n",
      "Iteration 26 , Current MSE : 124.8619299431396\n",
      "10/10 [==============================] - 0s 996us/step\n",
      "Iteration 27 , Current MSE : 86.35867767441654\n",
      "10/10 [==============================] - 0s 997us/step\n",
      "Iteration 28 , Current MSE : 111.28398314698502\n",
      "10/10 [==============================] - 0s 1ms/step\n",
      "Iteration 29 , Current MSE : 117.50879826823346\n",
      "10/10 [==============================] - 0s 1ms/step\n",
      "Iteration 30 , Current MSE : 118.18095392414114\n",
      "10/10 [==============================] - 0s 1ms/step\n",
      "Iteration 31 , Current MSE : 129.3780172653089\n",
      "10/10 [==============================] - 0s 1ms/step\n",
      "Iteration 32 , Current MSE : 122.963967588754\n",
      "10/10 [==============================] - 0s 1ms/step\n",
      "Iteration 33 , Current MSE : 124.59447051667513\n",
      "10/10 [==============================] - 0s 1ms/step\n",
      "Iteration 34 , Current MSE : 96.0728876023805\n",
      "10/10 [==============================] - 0s 1ms/step\n",
      "Iteration 35 , Current MSE : 130.2454212154823\n",
      "10/10 [==============================] - 0s 1ms/step\n",
      "Iteration 36 , Current MSE : 125.29950121867277\n",
      "10/10 [==============================] - 0s 1ms/step\n",
      "Iteration 37 , Current MSE : 115.36395214079802\n",
      "10/10 [==============================] - 0s 1ms/step\n",
      "Iteration 38 , Current MSE : 123.27076415371346\n",
      "10/10 [==============================] - 0s 1ms/step\n",
      "Iteration 39 , Current MSE : 132.289408738117\n",
      "10/10 [==============================] - 0s 1ms/step\n",
      "Iteration 40 , Current MSE : 110.26412607864756\n",
      "10/10 [==============================] - 0s 1ms/step\n",
      "Iteration 41 , Current MSE : 117.27973060142938\n",
      "10/10 [==============================] - 0s 1ms/step\n",
      "Iteration 42 , Current MSE : 124.70581381291387\n",
      "10/10 [==============================] - 0s 1ms/step\n",
      "Iteration 43 , Current MSE : 108.76475127435002\n",
      "10/10 [==============================] - 0s 1ms/step\n",
      "Iteration 44 , Current MSE : 122.38440712341293\n",
      "10/10 [==============================] - 0s 1ms/step\n",
      "Iteration 45 , Current MSE : 66.36968911734223\n",
      "10/10 [==============================] - 0s 1ms/step\n",
      "Iteration 46 , Current MSE : 117.94723160209904\n",
      "10/10 [==============================] - 0s 1000us/step\n",
      "Iteration 47 , Current MSE : 97.19647033395626\n",
      "10/10 [==============================] - 0s 1ms/step\n",
      "Iteration 48 , Current MSE : 118.88792897213827\n",
      "10/10 [==============================] - 0s 1ms/step\n",
      "Iteration 49 , Current MSE : 116.45424946088716\n",
      "10/10 [==============================] - 0s 7ms/step\n",
      "Iteration 50 , Current MSE : 124.50023249164023\n"
     ]
    }
   ],
   "source": [
    "#loop of training 50 times\n",
    "\n",
    "MSE=[]#stores mean squared error\n",
    "for i in range(0,50):\n",
    "    x_train,x_test,y_train,y_test = train_test_split(independent,dependent,test_size=0.3,random_state=10)\n",
    "    model = regression_model()\n",
    "    model.fit(x=x_train,y=y_train,epochs=50,verbose=0)#verbose 0 so multiple progress bar are not printed\n",
    "    predictions = model.predict(x=x_test)\n",
    "\n",
    "    #metric measurement y_test is Actual, predictions are calculated\n",
    "    cur_mse = mean_squared_error(y_test,predictions)\n",
    "    #storing mse in MSE list\n",
    "    MSE.append(cur_mse)\n",
    "    print(f\"Iteration {i+1} , Current MSE : {cur_mse}\")\n"
   ]
  },
  {
   "cell_type": "markdown",
   "id": "ccbf5d4b-e3c0-4bdd-b6f3-b0a3cd11f2d4",
   "metadata": {},
   "source": [
    "### Printing mean and standard deviation of Mean Squared Errors of 50 iteration of training"
   ]
  },
  {
   "cell_type": "code",
   "execution_count": 17,
   "id": "0f56b679-7d52-4509-ad81-63381e414fc4",
   "metadata": {},
   "outputs": [
    {
     "name": "stdout",
     "output_type": "stream",
     "text": [
      "Mean : 115.71291469419742, Standard Deviation : 13.434630891593258\n"
     ]
    }
   ],
   "source": [
    "MSE = np.array(MSE)\n",
    "\n",
    "print(f\"Mean : {MSE.mean()}, Standard Deviation : {MSE.std()}\")"
   ]
  },
  {
   "cell_type": "code",
   "execution_count": null,
   "id": "6218932d-1cf5-42c8-bb14-e8b7808264ce",
   "metadata": {},
   "outputs": [],
   "source": []
  }
 ],
 "metadata": {
  "kernelspec": {
   "display_name": "Python 3 (ipykernel)",
   "language": "python",
   "name": "python3"
  },
  "language_info": {
   "codemirror_mode": {
    "name": "ipython",
    "version": 3
   },
   "file_extension": ".py",
   "mimetype": "text/x-python",
   "name": "python",
   "nbconvert_exporter": "python",
   "pygments_lexer": "ipython3",
   "version": "3.10.10"
  }
 },
 "nbformat": 4,
 "nbformat_minor": 5
}
